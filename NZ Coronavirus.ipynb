{
 "cells": [
  {
   "cell_type": "markdown",
   "id": "3084bc41",
   "metadata": {},
   "source": [
    "## Coronaviris details for countries"
   ]
  },
  {
   "cell_type": "code",
   "execution_count": 1,
   "id": "de5a36dc",
   "metadata": {},
   "outputs": [],
   "source": [
    "using DataFrames ,UrlDownload;"
   ]
  },
  {
   "cell_type": "code",
   "execution_count": 2,
   "id": "b8d4a18b",
   "metadata": {},
   "outputs": [
    {
     "data": {
      "text/plain": [
       "\"https://covid.ourworldindata.org/data/owid-covid-data.csv\""
      ]
     },
     "execution_count": 2,
     "metadata": {},
     "output_type": "execute_result"
    }
   ],
   "source": [
    "link = \"https://covid.ourworldindata.org/data/owid-covid-data.csv\""
   ]
  },
  {
   "cell_type": "code",
   "execution_count": 3,
   "id": "d2eaca4c",
   "metadata": {},
   "outputs": [
    {
     "data": {
      "text/html": [
       "<div class=\"data-frame\"><p>10 rows × 62 columns (omitted printing of 55 columns)</p><table class=\"data-frame\"><thead><tr><th></th><th>iso_code</th><th>continent</th><th>location</th><th>date</th><th>total_cases</th><th>new_cases</th><th>new_cases_smoothed</th></tr><tr><th></th><th title=\"String\">String</th><th title=\"Union{Missing, String}\">String?</th><th title=\"String\">String</th><th title=\"Dates.Date\">Date…</th><th title=\"Union{Missing, Float64}\">Float64?</th><th title=\"Union{Missing, Float64}\">Float64?</th><th title=\"Union{Missing, Float64}\">Float64?</th></tr></thead><tbody><tr><th>1</th><td>AFG</td><td>Asia</td><td>Afghanistan</td><td>2020-02-24</td><td>1.0</td><td>1.0</td><td><em>missing</em></td></tr><tr><th>2</th><td>AFG</td><td>Asia</td><td>Afghanistan</td><td>2020-02-25</td><td>1.0</td><td>0.0</td><td><em>missing</em></td></tr><tr><th>3</th><td>AFG</td><td>Asia</td><td>Afghanistan</td><td>2020-02-26</td><td>1.0</td><td>0.0</td><td><em>missing</em></td></tr><tr><th>4</th><td>AFG</td><td>Asia</td><td>Afghanistan</td><td>2020-02-27</td><td>1.0</td><td>0.0</td><td><em>missing</em></td></tr><tr><th>5</th><td>AFG</td><td>Asia</td><td>Afghanistan</td><td>2020-02-28</td><td>1.0</td><td>0.0</td><td><em>missing</em></td></tr><tr><th>6</th><td>AFG</td><td>Asia</td><td>Afghanistan</td><td>2020-02-29</td><td>1.0</td><td>0.0</td><td>0.143</td></tr><tr><th>7</th><td>AFG</td><td>Asia</td><td>Afghanistan</td><td>2020-03-01</td><td>1.0</td><td>0.0</td><td>0.143</td></tr><tr><th>8</th><td>AFG</td><td>Asia</td><td>Afghanistan</td><td>2020-03-02</td><td>1.0</td><td>0.0</td><td>0.0</td></tr><tr><th>9</th><td>AFG</td><td>Asia</td><td>Afghanistan</td><td>2020-03-03</td><td>2.0</td><td>1.0</td><td>0.143</td></tr><tr><th>10</th><td>AFG</td><td>Asia</td><td>Afghanistan</td><td>2020-03-04</td><td>4.0</td><td>2.0</td><td>0.429</td></tr></tbody></table></div>"
      ],
      "text/latex": [
       "\\begin{tabular}{r|cccccccc}\n",
       "\t& iso\\_code & continent & location & date & total\\_cases & new\\_cases & new\\_cases\\_smoothed & \\\\\n",
       "\t\\hline\n",
       "\t& String & String? & String & Date… & Float64? & Float64? & Float64? & \\\\\n",
       "\t\\hline\n",
       "\t1 & AFG & Asia & Afghanistan & 2020-02-24 & 1.0 & 1.0 & \\emph{missing} & $\\dots$ \\\\\n",
       "\t2 & AFG & Asia & Afghanistan & 2020-02-25 & 1.0 & 0.0 & \\emph{missing} & $\\dots$ \\\\\n",
       "\t3 & AFG & Asia & Afghanistan & 2020-02-26 & 1.0 & 0.0 & \\emph{missing} & $\\dots$ \\\\\n",
       "\t4 & AFG & Asia & Afghanistan & 2020-02-27 & 1.0 & 0.0 & \\emph{missing} & $\\dots$ \\\\\n",
       "\t5 & AFG & Asia & Afghanistan & 2020-02-28 & 1.0 & 0.0 & \\emph{missing} & $\\dots$ \\\\\n",
       "\t6 & AFG & Asia & Afghanistan & 2020-02-29 & 1.0 & 0.0 & 0.143 & $\\dots$ \\\\\n",
       "\t7 & AFG & Asia & Afghanistan & 2020-03-01 & 1.0 & 0.0 & 0.143 & $\\dots$ \\\\\n",
       "\t8 & AFG & Asia & Afghanistan & 2020-03-02 & 1.0 & 0.0 & 0.0 & $\\dots$ \\\\\n",
       "\t9 & AFG & Asia & Afghanistan & 2020-03-03 & 2.0 & 1.0 & 0.143 & $\\dots$ \\\\\n",
       "\t10 & AFG & Asia & Afghanistan & 2020-03-04 & 4.0 & 2.0 & 0.429 & $\\dots$ \\\\\n",
       "\\end{tabular}\n"
      ],
      "text/plain": [
       "\u001b[1m10×62 DataFrame\u001b[0m\n",
       "\u001b[1m Row \u001b[0m│\u001b[1m iso_code \u001b[0m\u001b[1m continent \u001b[0m\u001b[1m location    \u001b[0m\u001b[1m date       \u001b[0m\u001b[1m total_cases \u001b[0m\u001b[1m new_cases \u001b[0m\u001b[1m n\u001b[0m ⋯\n",
       "\u001b[1m     \u001b[0m│\u001b[90m String   \u001b[0m\u001b[90m String?   \u001b[0m\u001b[90m String      \u001b[0m\u001b[90m Date…      \u001b[0m\u001b[90m Float64?    \u001b[0m\u001b[90m Float64?  \u001b[0m\u001b[90m F\u001b[0m ⋯\n",
       "─────┼──────────────────────────────────────────────────────────────────────────\n",
       "   1 │ AFG       Asia       Afghanistan  2020-02-24          1.0        1.0 \u001b[90m  \u001b[0m ⋯\n",
       "   2 │ AFG       Asia       Afghanistan  2020-02-25          1.0        0.0 \u001b[90m\u001b[0m\n",
       "   3 │ AFG       Asia       Afghanistan  2020-02-26          1.0        0.0 \u001b[90m\u001b[0m\n",
       "   4 │ AFG       Asia       Afghanistan  2020-02-27          1.0        0.0 \u001b[90m\u001b[0m\n",
       "   5 │ AFG       Asia       Afghanistan  2020-02-28          1.0        0.0 \u001b[90m  \u001b[0m ⋯\n",
       "   6 │ AFG       Asia       Afghanistan  2020-02-29          1.0        0.0\n",
       "   7 │ AFG       Asia       Afghanistan  2020-03-01          1.0        0.0\n",
       "   8 │ AFG       Asia       Afghanistan  2020-03-02          1.0        0.0\n",
       "   9 │ AFG       Asia       Afghanistan  2020-03-03          2.0        1.0    ⋯\n",
       "  10 │ AFG       Asia       Afghanistan  2020-03-04          4.0        2.0\n",
       "\u001b[36m                                                              56 columns omitted\u001b[0m"
      ]
     },
     "execution_count": 3,
     "metadata": {},
     "output_type": "execute_result"
    }
   ],
   "source": [
    "data = urldownload(link) |> DataFrame\n",
    "first(data,10)"
   ]
  },
  {
   "cell_type": "code",
   "execution_count": 4,
   "id": "c059a620",
   "metadata": {},
   "outputs": [
    {
     "name": "stdout",
     "output_type": "stream",
     "text": [
      "\u001b[1m112660×62 DataFrame\u001b[0m\n",
      "\u001b[1m    Row \u001b[0m│\u001b[1m iso_code \u001b[0m\u001b[1m continent \u001b[0m\u001b[1m location    \u001b[0m\u001b[1m date       \u001b[0m\u001b[1m total_cases \u001b[0m\u001b[1m new_cases \u001b[0m\u001b[1m new_cases_smoothed \u001b[0m\u001b[1m total_deaths \u001b[0m\u001b[1m new_deaths \u001b[0m\u001b[1m new_deaths_smoothed \u001b[0m\u001b[1m total_cases_per_million \u001b[0m\u001b[1m new_cases_per_million \u001b[0m\u001b[1m new_cases_smoothed_per_million \u001b[0m\u001b[1m total_deaths_per_million \u001b[0m\u001b[1m new_deaths_per_million \u001b[0m\u001b[1m new_deaths_smoothed_per_million \u001b[0m\u001b[1m reproduction_rate \u001b[0m\u001b[1m icu_patients \u001b[0m\u001b[1m icu_patients_per_million \u001b[0m\u001b[1m hosp_patients \u001b[0m\u001b[1m hosp_patients_per_million \u001b[0m\u001b[1m weekly_icu_admissions \u001b[0m\u001b[1m weekly_icu_admissions_per_million \u001b[0m\u001b[1m weekly_hosp_admissions \u001b[0m\u001b[1m weekly_hosp_admissions_per_million \u001b[0m\u001b[1m new_tests \u001b[0m\u001b[1m total_tests     \u001b[0m\u001b[1m total_tests_per_thousand \u001b[0m\u001b[1m new_tests_per_thousand \u001b[0m\u001b[1m new_tests_smoothed \u001b[0m\u001b[1m new_tests_smoothed_per_thousand \u001b[0m\u001b[1m positive_rate \u001b[0m\u001b[1m tests_per_case \u001b[0m\u001b[1m tests_units     \u001b[0m\u001b[1m total_vaccinations \u001b[0m\u001b[1m people_vaccinated \u001b[0m\u001b[1m people_fully_vaccinated \u001b[0m\u001b[1m total_boosters \u001b[0m\u001b[1m new_vaccinations \u001b[0m\u001b[1m new_vaccinations_smoothed \u001b[0m\u001b[1m total_vaccinations_per_hundred \u001b[0m\u001b[1m people_vaccinated_per_hundred \u001b[0m\u001b[1m people_fully_vaccinated_per_hundred \u001b[0m\u001b[1m total_boosters_per_hundred \u001b[0m\u001b[1m new_vaccinations_smoothed_per_million \u001b[0m\u001b[1m stringency_index \u001b[0m\u001b[1m population \u001b[0m\u001b[1m population_density \u001b[0m\u001b[1m median_age \u001b[0m\u001b[1m aged_65_older \u001b[0m\u001b[1m aged_70_older \u001b[0m\u001b[1m gdp_per_capita \u001b[0m\u001b[1m extreme_poverty \u001b[0m\u001b[1m cardiovasc_death_rate \u001b[0m\u001b[1m diabetes_prevalence \u001b[0m\u001b[1m female_smokers \u001b[0m\u001b[1m male_smokers \u001b[0m\u001b[1m handwashing_facilities \u001b[0m\u001b[1m hospital_beds_per_thousand \u001b[0m\u001b[1m life_expectancy \u001b[0m\u001b[1m human_development_index \u001b[0m\u001b[1m excess_mortality \u001b[0m\n",
      "\u001b[1m        \u001b[0m│\u001b[90m String   \u001b[0m\u001b[90m String?   \u001b[0m\u001b[90m String      \u001b[0m\u001b[90m Date…      \u001b[0m\u001b[90m Float64?    \u001b[0m\u001b[90m Float64?  \u001b[0m\u001b[90m Float64?           \u001b[0m\u001b[90m Float64?     \u001b[0m\u001b[90m Float64?   \u001b[0m\u001b[90m Float64?            \u001b[0m\u001b[90m Float64?                \u001b[0m\u001b[90m Float64?              \u001b[0m\u001b[90m Float64?                       \u001b[0m\u001b[90m Float64?                 \u001b[0m\u001b[90m Float64?               \u001b[0m\u001b[90m Float64?                        \u001b[0m\u001b[90m Float64?          \u001b[0m\u001b[90m Float64?     \u001b[0m\u001b[90m Float64?                 \u001b[0m\u001b[90m Float64?      \u001b[0m\u001b[90m Float64?                  \u001b[0m\u001b[90m Float64?              \u001b[0m\u001b[90m Float64?                          \u001b[0m\u001b[90m Float64?               \u001b[0m\u001b[90m Float64?                           \u001b[0m\u001b[90m Float64?  \u001b[0m\u001b[90m Float64?        \u001b[0m\u001b[90m Float64?                 \u001b[0m\u001b[90m Float64?               \u001b[0m\u001b[90m Float64?           \u001b[0m\u001b[90m Float64?                        \u001b[0m\u001b[90m Float64?      \u001b[0m\u001b[90m Float64?       \u001b[0m\u001b[90m String?         \u001b[0m\u001b[90m Float64?           \u001b[0m\u001b[90m Float64?          \u001b[0m\u001b[90m Float64?                \u001b[0m\u001b[90m Float64?       \u001b[0m\u001b[90m Float64?         \u001b[0m\u001b[90m Float64?                  \u001b[0m\u001b[90m Float64?                       \u001b[0m\u001b[90m Float64?                      \u001b[0m\u001b[90m Float64?                            \u001b[0m\u001b[90m Float64?                   \u001b[0m\u001b[90m Float64?                              \u001b[0m\u001b[90m Float64?         \u001b[0m\u001b[90m Float64?   \u001b[0m\u001b[90m Float64?           \u001b[0m\u001b[90m Float64?   \u001b[0m\u001b[90m Float64?      \u001b[0m\u001b[90m Float64?      \u001b[0m\u001b[90m Float64?       \u001b[0m\u001b[90m Float64?        \u001b[0m\u001b[90m Float64?              \u001b[0m\u001b[90m Float64?            \u001b[0m\u001b[90m Float64?       \u001b[0m\u001b[90m Float64?     \u001b[0m\u001b[90m Float64?               \u001b[0m\u001b[90m Float64?                   \u001b[0m\u001b[90m Float64?        \u001b[0m\u001b[90m Float64?                \u001b[0m\u001b[90m Float64?         \u001b[0m\n",
      "────────┼─────────────────────────────────────────────────────────────────────────────────────────────────────────────────────────────────────────────────────────────────────────────────────────────────────────────────────────────────────────────────────────────────────────────────────────────────────────────────────────────────────────────────────────────────────────────────────────────────────────────────────────────────────────────────────────────────────────────────────────────────────────────────────────────────────────────────────────────────────────────────────────────────────────────────────────────────────────────────────────────────────────────────────────────────────────────────────────────────────────────────────────────────────────────────────────────────────────────────────────────────────────────────────────────────────────────────────────────────────────────────────────────────────────────────────────────────────────────────────────────────────────────────────────────────────────────────────────────────────────────────────────────────────────────────────────────────────────────────────────────────────────────────────────────────────────────────────────────────────────────────────────────────────────────────────────────────────────────────────────────────────────────────────\n",
      "      1 │ AFG       Asia       Afghanistan  2020-02-24          1.0        1.0 \u001b[90m        missing     \u001b[0m\u001b[90m    missing   \u001b[0m\u001b[90m  missing   \u001b[0m\u001b[90m         missing     \u001b[0m                   0.025                  0.025 \u001b[90m                    missing     \u001b[0m\u001b[90m              missing     \u001b[0m\u001b[90m            missing     \u001b[0m\u001b[90m                     missing     \u001b[0m\u001b[90m        missing    \u001b[0m\u001b[90m      missing \u001b[0m\u001b[90m                  missing \u001b[0m\u001b[90m       missing \u001b[0m\u001b[90m                   missing \u001b[0m\u001b[90m               missing \u001b[0m\u001b[90m                           missing \u001b[0m\u001b[90m                missing \u001b[0m\u001b[90m                            missing \u001b[0m\u001b[90m missing   \u001b[0m\u001b[90m missing         \u001b[0m\u001b[90m              missing     \u001b[0m\u001b[90m            missing     \u001b[0m\u001b[90m          missing   \u001b[0m\u001b[90m                     missing     \u001b[0m\u001b[90m   missing     \u001b[0m\u001b[90m      missing   \u001b[0m\u001b[90m missing         \u001b[0m\u001b[90m    missing         \u001b[0m\u001b[90m   missing         \u001b[0m\u001b[90m         missing         \u001b[0m\u001b[90m        missing \u001b[0m\u001b[90m        missing   \u001b[0m\u001b[90m                 missing   \u001b[0m\u001b[90m                     missing    \u001b[0m\u001b[90m                    missing    \u001b[0m\u001b[90m                          missing    \u001b[0m\u001b[90m                    missing \u001b[0m\u001b[90m                             missing   \u001b[0m             8.33   3.98354e7              54.422        18.6          2.581          1.337         1803.99 \u001b[90m       missing   \u001b[0m               597.029                 9.59 \u001b[90m      missing   \u001b[0m\u001b[90m    missing   \u001b[0m                 37.746                         0.5            64.83                    0.511 \u001b[90m          missing \u001b[0m\n",
      "      2 │ AFG       Asia       Afghanistan  2020-02-25          1.0        0.0 \u001b[90m        missing     \u001b[0m\u001b[90m    missing   \u001b[0m\u001b[90m  missing   \u001b[0m\u001b[90m         missing     \u001b[0m                   0.025                  0.0   \u001b[90m                    missing     \u001b[0m\u001b[90m              missing     \u001b[0m\u001b[90m            missing     \u001b[0m\u001b[90m                     missing     \u001b[0m\u001b[90m        missing    \u001b[0m\u001b[90m      missing \u001b[0m\u001b[90m                  missing \u001b[0m\u001b[90m       missing \u001b[0m\u001b[90m                   missing \u001b[0m\u001b[90m               missing \u001b[0m\u001b[90m                           missing \u001b[0m\u001b[90m                missing \u001b[0m\u001b[90m                            missing \u001b[0m\u001b[90m missing   \u001b[0m\u001b[90m missing         \u001b[0m\u001b[90m              missing     \u001b[0m\u001b[90m            missing     \u001b[0m\u001b[90m          missing   \u001b[0m\u001b[90m                     missing     \u001b[0m\u001b[90m   missing     \u001b[0m\u001b[90m      missing   \u001b[0m\u001b[90m missing         \u001b[0m\u001b[90m    missing         \u001b[0m\u001b[90m   missing         \u001b[0m\u001b[90m         missing         \u001b[0m\u001b[90m        missing \u001b[0m\u001b[90m        missing   \u001b[0m\u001b[90m                 missing   \u001b[0m\u001b[90m                     missing    \u001b[0m\u001b[90m                    missing    \u001b[0m\u001b[90m                          missing    \u001b[0m\u001b[90m                    missing \u001b[0m\u001b[90m                             missing   \u001b[0m             8.33   3.98354e7              54.422        18.6          2.581          1.337         1803.99 \u001b[90m       missing   \u001b[0m               597.029                 9.59 \u001b[90m      missing   \u001b[0m\u001b[90m    missing   \u001b[0m                 37.746                         0.5            64.83                    0.511 \u001b[90m          missing \u001b[0m\n",
      "      3 │ AFG       Asia       Afghanistan  2020-02-26          1.0        0.0 \u001b[90m        missing     \u001b[0m\u001b[90m    missing   \u001b[0m\u001b[90m  missing   \u001b[0m\u001b[90m         missing     \u001b[0m                   0.025                  0.0   \u001b[90m                    missing     \u001b[0m\u001b[90m              missing     \u001b[0m\u001b[90m            missing     \u001b[0m\u001b[90m                     missing     \u001b[0m\u001b[90m        missing    \u001b[0m\u001b[90m      missing \u001b[0m\u001b[90m                  missing \u001b[0m\u001b[90m       missing \u001b[0m\u001b[90m                   missing \u001b[0m\u001b[90m               missing \u001b[0m\u001b[90m                           missing \u001b[0m\u001b[90m                missing \u001b[0m\u001b[90m                            missing \u001b[0m\u001b[90m missing   \u001b[0m\u001b[90m missing         \u001b[0m\u001b[90m              missing     \u001b[0m\u001b[90m            missing     \u001b[0m\u001b[90m          missing   \u001b[0m\u001b[90m                     missing     \u001b[0m\u001b[90m   missing     \u001b[0m\u001b[90m      missing   \u001b[0m\u001b[90m missing         \u001b[0m\u001b[90m    missing         \u001b[0m\u001b[90m   missing         \u001b[0m\u001b[90m         missing         \u001b[0m\u001b[90m        missing \u001b[0m\u001b[90m        missing   \u001b[0m\u001b[90m                 missing   \u001b[0m\u001b[90m                     missing    \u001b[0m\u001b[90m                    missing    \u001b[0m\u001b[90m                          missing    \u001b[0m\u001b[90m                    missing \u001b[0m\u001b[90m                             missing   \u001b[0m             8.33   3.98354e7              54.422        18.6          2.581          1.337         1803.99 \u001b[90m       missing   \u001b[0m               597.029                 9.59 \u001b[90m      missing   \u001b[0m\u001b[90m    missing   \u001b[0m                 37.746                         0.5            64.83                    0.511 \u001b[90m          missing \u001b[0m\n",
      "      4 │ AFG       Asia       Afghanistan  2020-02-27          1.0        0.0 \u001b[90m        missing     \u001b[0m\u001b[90m    missing   \u001b[0m\u001b[90m  missing   \u001b[0m\u001b[90m         missing     \u001b[0m                   0.025                  0.0   \u001b[90m                    missing     \u001b[0m\u001b[90m              missing     \u001b[0m\u001b[90m            missing     \u001b[0m\u001b[90m                     missing     \u001b[0m\u001b[90m        missing    \u001b[0m\u001b[90m      missing \u001b[0m\u001b[90m                  missing \u001b[0m\u001b[90m       missing \u001b[0m\u001b[90m                   missing \u001b[0m\u001b[90m               missing \u001b[0m\u001b[90m                           missing \u001b[0m\u001b[90m                missing \u001b[0m\u001b[90m                            missing \u001b[0m\u001b[90m missing   \u001b[0m\u001b[90m missing         \u001b[0m\u001b[90m              missing     \u001b[0m\u001b[90m            missing     \u001b[0m\u001b[90m          missing   \u001b[0m\u001b[90m                     missing     \u001b[0m\u001b[90m   missing     \u001b[0m\u001b[90m      missing   \u001b[0m\u001b[90m missing         \u001b[0m\u001b[90m    missing         \u001b[0m\u001b[90m   missing         \u001b[0m\u001b[90m         missing         \u001b[0m\u001b[90m        missing \u001b[0m\u001b[90m        missing   \u001b[0m\u001b[90m                 missing   \u001b[0m\u001b[90m                     missing    \u001b[0m\u001b[90m                    missing    \u001b[0m\u001b[90m                          missing    \u001b[0m\u001b[90m                    missing \u001b[0m\u001b[90m                             missing   \u001b[0m             8.33   3.98354e7              54.422        18.6          2.581          1.337         1803.99 \u001b[90m       missing   \u001b[0m               597.029                 9.59 \u001b[90m      missing   \u001b[0m\u001b[90m    missing   \u001b[0m                 37.746                         0.5            64.83                    0.511 \u001b[90m          missing \u001b[0m\n",
      "      5 │ AFG       Asia       Afghanistan  2020-02-28          1.0        0.0 \u001b[90m        missing     \u001b[0m\u001b[90m    missing   \u001b[0m\u001b[90m  missing   \u001b[0m\u001b[90m         missing     \u001b[0m                   0.025                  0.0   \u001b[90m                    missing     \u001b[0m\u001b[90m              missing     \u001b[0m\u001b[90m            missing     \u001b[0m\u001b[90m                     missing     \u001b[0m\u001b[90m        missing    \u001b[0m\u001b[90m      missing \u001b[0m\u001b[90m                  missing \u001b[0m\u001b[90m       missing \u001b[0m\u001b[90m                   missing \u001b[0m\u001b[90m               missing \u001b[0m\u001b[90m                           missing \u001b[0m\u001b[90m                missing \u001b[0m\u001b[90m                            missing \u001b[0m\u001b[90m missing   \u001b[0m\u001b[90m missing         \u001b[0m\u001b[90m              missing     \u001b[0m\u001b[90m            missing     \u001b[0m\u001b[90m          missing   \u001b[0m\u001b[90m                     missing     \u001b[0m\u001b[90m   missing     \u001b[0m\u001b[90m      missing   \u001b[0m\u001b[90m missing         \u001b[0m\u001b[90m    missing         \u001b[0m\u001b[90m   missing         \u001b[0m\u001b[90m         missing         \u001b[0m\u001b[90m        missing \u001b[0m\u001b[90m        missing   \u001b[0m\u001b[90m                 missing   \u001b[0m\u001b[90m                     missing    \u001b[0m\u001b[90m                    missing    \u001b[0m\u001b[90m                          missing    \u001b[0m\u001b[90m                    missing \u001b[0m\u001b[90m                             missing   \u001b[0m             8.33   3.98354e7              54.422        18.6          2.581          1.337         1803.99 \u001b[90m       missing   \u001b[0m               597.029                 9.59 \u001b[90m      missing   \u001b[0m\u001b[90m    missing   \u001b[0m                 37.746                         0.5            64.83                    0.511 \u001b[90m          missing \u001b[0m\n",
      "      6 │ AFG       Asia       Afghanistan  2020-02-29          1.0        0.0               0.143 \u001b[90m    missing   \u001b[0m\u001b[90m  missing   \u001b[0m               0.0                      0.025                  0.0                             0.004 \u001b[90m              missing     \u001b[0m\u001b[90m            missing     \u001b[0m                           0.0   \u001b[90m        missing    \u001b[0m\u001b[90m      missing \u001b[0m\u001b[90m                  missing \u001b[0m\u001b[90m       missing \u001b[0m\u001b[90m                   missing \u001b[0m\u001b[90m               missing \u001b[0m\u001b[90m                           missing \u001b[0m\u001b[90m                missing \u001b[0m\u001b[90m                            missing \u001b[0m\u001b[90m missing   \u001b[0m\u001b[90m missing         \u001b[0m\u001b[90m              missing     \u001b[0m\u001b[90m            missing     \u001b[0m\u001b[90m          missing   \u001b[0m\u001b[90m                     missing     \u001b[0m\u001b[90m   missing     \u001b[0m\u001b[90m      missing   \u001b[0m\u001b[90m missing         \u001b[0m\u001b[90m    missing         \u001b[0m\u001b[90m   missing         \u001b[0m\u001b[90m         missing         \u001b[0m\u001b[90m        missing \u001b[0m\u001b[90m        missing   \u001b[0m\u001b[90m                 missing   \u001b[0m\u001b[90m                     missing    \u001b[0m\u001b[90m                    missing    \u001b[0m\u001b[90m                          missing    \u001b[0m\u001b[90m                    missing \u001b[0m\u001b[90m                             missing   \u001b[0m             8.33   3.98354e7              54.422        18.6          2.581          1.337         1803.99 \u001b[90m       missing   \u001b[0m               597.029                 9.59 \u001b[90m      missing   \u001b[0m\u001b[90m    missing   \u001b[0m                 37.746                         0.5            64.83                    0.511 \u001b[90m          missing \u001b[0m\n",
      "      7 │ AFG       Asia       Afghanistan  2020-03-01          1.0        0.0               0.143 \u001b[90m    missing   \u001b[0m\u001b[90m  missing   \u001b[0m               0.0                      0.025                  0.0                             0.004 \u001b[90m              missing     \u001b[0m\u001b[90m            missing     \u001b[0m                           0.0   \u001b[90m        missing    \u001b[0m\u001b[90m      missing \u001b[0m\u001b[90m                  missing \u001b[0m\u001b[90m       missing \u001b[0m\u001b[90m                   missing \u001b[0m\u001b[90m               missing \u001b[0m\u001b[90m                           missing \u001b[0m\u001b[90m                missing \u001b[0m\u001b[90m                            missing \u001b[0m\u001b[90m missing   \u001b[0m\u001b[90m missing         \u001b[0m\u001b[90m              missing     \u001b[0m\u001b[90m            missing     \u001b[0m\u001b[90m          missing   \u001b[0m\u001b[90m                     missing     \u001b[0m\u001b[90m   missing     \u001b[0m\u001b[90m      missing   \u001b[0m\u001b[90m missing         \u001b[0m\u001b[90m    missing         \u001b[0m\u001b[90m   missing         \u001b[0m\u001b[90m         missing         \u001b[0m\u001b[90m        missing \u001b[0m\u001b[90m        missing   \u001b[0m\u001b[90m                 missing   \u001b[0m\u001b[90m                     missing    \u001b[0m\u001b[90m                    missing    \u001b[0m\u001b[90m                          missing    \u001b[0m\u001b[90m                    missing \u001b[0m\u001b[90m                             missing   \u001b[0m            27.78   3.98354e7              54.422        18.6          2.581          1.337         1803.99 \u001b[90m       missing   \u001b[0m               597.029                 9.59 \u001b[90m      missing   \u001b[0m\u001b[90m    missing   \u001b[0m                 37.746                         0.5            64.83                    0.511 \u001b[90m          missing \u001b[0m\n",
      "      8 │ AFG       Asia       Afghanistan  2020-03-02          1.0        0.0               0.0   \u001b[90m    missing   \u001b[0m\u001b[90m  missing   \u001b[0m               0.0                      0.025                  0.0                             0.0   \u001b[90m              missing     \u001b[0m\u001b[90m            missing     \u001b[0m                           0.0   \u001b[90m        missing    \u001b[0m\u001b[90m      missing \u001b[0m\u001b[90m                  missing \u001b[0m\u001b[90m       missing \u001b[0m\u001b[90m                   missing \u001b[0m\u001b[90m               missing \u001b[0m\u001b[90m                           missing \u001b[0m\u001b[90m                missing \u001b[0m\u001b[90m                            missing \u001b[0m\u001b[90m missing   \u001b[0m\u001b[90m missing         \u001b[0m\u001b[90m              missing     \u001b[0m\u001b[90m            missing     \u001b[0m\u001b[90m          missing   \u001b[0m\u001b[90m                     missing     \u001b[0m\u001b[90m   missing     \u001b[0m\u001b[90m      missing   \u001b[0m\u001b[90m missing         \u001b[0m\u001b[90m    missing         \u001b[0m\u001b[90m   missing         \u001b[0m\u001b[90m         missing         \u001b[0m\u001b[90m        missing \u001b[0m\u001b[90m        missing   \u001b[0m\u001b[90m                 missing   \u001b[0m\u001b[90m                     missing    \u001b[0m\u001b[90m                    missing    \u001b[0m\u001b[90m                          missing    \u001b[0m\u001b[90m                    missing \u001b[0m\u001b[90m                             missing   \u001b[0m            27.78   3.98354e7              54.422        18.6          2.581          1.337         1803.99 \u001b[90m       missing   \u001b[0m               597.029                 9.59 \u001b[90m      missing   \u001b[0m\u001b[90m    missing   \u001b[0m                 37.746                         0.5            64.83                    0.511 \u001b[90m          missing \u001b[0m\n",
      "      9 │ AFG       Asia       Afghanistan  2020-03-03          2.0        1.0               0.143 \u001b[90m    missing   \u001b[0m\u001b[90m  missing   \u001b[0m               0.0                      0.05                   0.025                           0.004 \u001b[90m              missing     \u001b[0m\u001b[90m            missing     \u001b[0m                           0.0   \u001b[90m        missing    \u001b[0m\u001b[90m      missing \u001b[0m\u001b[90m                  missing \u001b[0m\u001b[90m       missing \u001b[0m\u001b[90m                   missing \u001b[0m\u001b[90m               missing \u001b[0m\u001b[90m                           missing \u001b[0m\u001b[90m                missing \u001b[0m\u001b[90m                            missing \u001b[0m\u001b[90m missing   \u001b[0m\u001b[90m missing         \u001b[0m\u001b[90m              missing     \u001b[0m\u001b[90m            missing     \u001b[0m\u001b[90m          missing   \u001b[0m\u001b[90m                     missing     \u001b[0m\u001b[90m   missing     \u001b[0m\u001b[90m      missing   \u001b[0m\u001b[90m missing         \u001b[0m\u001b[90m    missing         \u001b[0m\u001b[90m   missing         \u001b[0m\u001b[90m         missing         \u001b[0m\u001b[90m        missing \u001b[0m\u001b[90m        missing   \u001b[0m\u001b[90m                 missing   \u001b[0m\u001b[90m                     missing    \u001b[0m\u001b[90m                    missing    \u001b[0m\u001b[90m                          missing    \u001b[0m\u001b[90m                    missing \u001b[0m\u001b[90m                             missing   \u001b[0m            27.78   3.98354e7              54.422        18.6          2.581          1.337         1803.99 \u001b[90m       missing   \u001b[0m               597.029                 9.59 \u001b[90m      missing   \u001b[0m\u001b[90m    missing   \u001b[0m                 37.746                         0.5            64.83                    0.511 \u001b[90m          missing \u001b[0m\n",
      "     10 │ AFG       Asia       Afghanistan  2020-03-04          4.0        2.0               0.429 \u001b[90m    missing   \u001b[0m\u001b[90m  missing   \u001b[0m               0.0                      0.1                    0.05                            0.011 \u001b[90m              missing     \u001b[0m\u001b[90m            missing     \u001b[0m                           0.0   \u001b[90m        missing    \u001b[0m\u001b[90m      missing \u001b[0m\u001b[90m                  missing \u001b[0m\u001b[90m       missing \u001b[0m\u001b[90m                   missing \u001b[0m\u001b[90m               missing \u001b[0m\u001b[90m                           missing \u001b[0m\u001b[90m                missing \u001b[0m\u001b[90m                            missing \u001b[0m\u001b[90m missing   \u001b[0m\u001b[90m missing         \u001b[0m\u001b[90m              missing     \u001b[0m\u001b[90m            missing     \u001b[0m\u001b[90m          missing   \u001b[0m\u001b[90m                     missing     \u001b[0m\u001b[90m   missing     \u001b[0m\u001b[90m      missing   \u001b[0m\u001b[90m missing         \u001b[0m\u001b[90m    missing         \u001b[0m\u001b[90m   missing         \u001b[0m\u001b[90m         missing         \u001b[0m\u001b[90m        missing \u001b[0m\u001b[90m        missing   \u001b[0m\u001b[90m                 missing   \u001b[0m\u001b[90m                     missing    \u001b[0m\u001b[90m                    missing    \u001b[0m\u001b[90m                          missing    \u001b[0m\u001b[90m                    missing \u001b[0m\u001b[90m                             missing   \u001b[0m            27.78   3.98354e7              54.422        18.6          2.581          1.337         1803.99 \u001b[90m       missing   \u001b[0m               597.029                 9.59 \u001b[90m      missing   \u001b[0m\u001b[90m    missing   \u001b[0m                 37.746                         0.5            64.83                    0.511 \u001b[90m          missing \u001b[0m\n",
      "     11 │ AFG       Asia       Afghanistan  2020-03-05          4.0        0.0               0.429 \u001b[90m    missing   \u001b[0m\u001b[90m  missing   \u001b[0m               0.0                      0.1                    0.0                             0.011 \u001b[90m              missing     \u001b[0m\u001b[90m            missing     \u001b[0m                           0.0   \u001b[90m        missing    \u001b[0m\u001b[90m      missing \u001b[0m\u001b[90m                  missing \u001b[0m\u001b[90m       missing \u001b[0m\u001b[90m                   missing \u001b[0m\u001b[90m               missing \u001b[0m\u001b[90m                           missing \u001b[0m\u001b[90m                missing \u001b[0m\u001b[90m                            missing \u001b[0m\u001b[90m missing   \u001b[0m\u001b[90m missing         \u001b[0m\u001b[90m              missing     \u001b[0m\u001b[90m            missing     \u001b[0m\u001b[90m          missing   \u001b[0m\u001b[90m                     missing     \u001b[0m\u001b[90m   missing     \u001b[0m\u001b[90m      missing   \u001b[0m\u001b[90m missing         \u001b[0m\u001b[90m    missing         \u001b[0m\u001b[90m   missing         \u001b[0m\u001b[90m         missing         \u001b[0m\u001b[90m        missing \u001b[0m\u001b[90m        missing   \u001b[0m\u001b[90m                 missing   \u001b[0m\u001b[90m                     missing    \u001b[0m\u001b[90m                    missing    \u001b[0m\u001b[90m                          missing    \u001b[0m\u001b[90m                    missing \u001b[0m\u001b[90m                             missing   \u001b[0m            27.78   3.98354e7              54.422        18.6          2.581          1.337         1803.99 \u001b[90m       missing   \u001b[0m               597.029                 9.59 \u001b[90m      missing   \u001b[0m\u001b[90m    missing   \u001b[0m                 37.746                         0.5            64.83                    0.511 \u001b[90m          missing \u001b[0m\n",
      "   ⋮    │    ⋮          ⋮           ⋮           ⋮            ⋮           ⋮              ⋮                ⋮            ⋮                ⋮                      ⋮                       ⋮                          ⋮                            ⋮                        ⋮                            ⋮                         ⋮               ⋮                   ⋮                    ⋮                    ⋮                        ⋮                            ⋮                            ⋮                             ⋮                       ⋮             ⋮                    ⋮                        ⋮                     ⋮                          ⋮                       ⋮              ⋮                ⋮                 ⋮                   ⋮                     ⋮                   ⋮                ⋮                      ⋮                            ⋮                               ⋮                                 ⋮                               ⋮                                 ⋮                           ⋮              ⋮               ⋮               ⋮             ⋮              ⋮              ⋮                ⋮                   ⋮                     ⋮                 ⋮              ⋮                  ⋮                         ⋮                      ⋮                    ⋮                    ⋮\n",
      " 112651 │ ZWE       Africa     Zimbabwe     2021-08-19     121902.0      404.0             449.714        4198.0        17.0               21.571                 8077.17                  26.769                          29.798                   278.157                   1.126                            1.429               0.64 \u001b[90m      missing \u001b[0m\u001b[90m                  missing \u001b[0m\u001b[90m       missing \u001b[0m\u001b[90m                   missing \u001b[0m\u001b[90m               missing \u001b[0m\u001b[90m                           missing \u001b[0m\u001b[90m                missing \u001b[0m\u001b[90m                            missing \u001b[0m    6925.0        1.08232e6                    71.714                   0.459              6136.0                            0.407          0.073            13.6  tests performed           3.62094e6          2.23326e6                1.38767e6 \u001b[90m        missing \u001b[0m          78597.0                    61097.0                           23.99                          14.8                                  9.19 \u001b[90m                    missing \u001b[0m                                4048.0             73.15   1.50922e7              42.729        19.6          2.822          1.882         1899.78             21.4                307.846                 1.82             1.6          30.7                  36.791                         1.7            61.49                    0.571 \u001b[90m          missing \u001b[0m\n",
      " 112652 │ ZWE       Africa     Zimbabwe     2021-08-20     121902.0        0.0             342.0          4198.0         0.0               17.857                 8077.17                   0.0                            22.661                   278.157                   0.0                              1.183               0.65 \u001b[90m      missing \u001b[0m\u001b[90m                  missing \u001b[0m\u001b[90m       missing \u001b[0m\u001b[90m                   missing \u001b[0m\u001b[90m               missing \u001b[0m\u001b[90m                           missing \u001b[0m\u001b[90m                missing \u001b[0m\u001b[90m                            missing \u001b[0m    6285.0        1.0886e6                     72.13                    0.416              6031.0                            0.4            0.057            17.6  tests performed           3.69951e6          2.27143e6                1.42808e6 \u001b[90m        missing \u001b[0m          78571.0                    69346.0                           24.51                          15.05                                 9.46 \u001b[90m                    missing \u001b[0m                                4595.0             73.15   1.50922e7              42.729        19.6          2.822          1.882         1899.78             21.4                307.846                 1.82             1.6          30.7                  36.791                         1.7            61.49                    0.571 \u001b[90m          missing \u001b[0m\n",
      " 112653 │ ZWE       Africa     Zimbabwe     2021-08-21     122487.0      585.0             376.286        4236.0        38.0               20.857                 8115.93                  38.762                          24.933                   280.675                   2.518                            1.382               0.66 \u001b[90m      missing \u001b[0m\u001b[90m                  missing \u001b[0m\u001b[90m       missing \u001b[0m\u001b[90m                   missing \u001b[0m\u001b[90m               missing \u001b[0m\u001b[90m                           missing \u001b[0m\u001b[90m                missing \u001b[0m\u001b[90m                            missing \u001b[0m    3957.0        1.09256e6                    72.392                   0.262              5952.0                            0.394          0.063            15.8  tests performed           3.75324e6          2.30134e6                1.4519e6  \u001b[90m        missing \u001b[0m          53734.0                    74048.0                           24.87                          15.25                                 9.62 \u001b[90m                    missing \u001b[0m                                4906.0             73.15   1.50922e7              42.729        19.6          2.822          1.882         1899.78             21.4                307.846                 1.82             1.6          30.7                  36.791                         1.7            61.49                    0.571 \u001b[90m          missing \u001b[0m\n",
      " 112654 │ ZWE       Africa     Zimbabwe     2021-08-22     122652.0      165.0             366.286        4249.0        13.0               20.0                   8126.86                  10.933                          24.27                    281.537                   0.861                            1.325               0.66 \u001b[90m      missing \u001b[0m\u001b[90m                  missing \u001b[0m\u001b[90m       missing \u001b[0m\u001b[90m                   missing \u001b[0m\u001b[90m               missing \u001b[0m\u001b[90m                           missing \u001b[0m\u001b[90m                missing \u001b[0m\u001b[90m                            missing \u001b[0m\u001b[90m missing   \u001b[0m\u001b[90m missing         \u001b[0m\u001b[90m              missing     \u001b[0m\u001b[90m            missing     \u001b[0m\u001b[90m          missing   \u001b[0m\u001b[90m                     missing     \u001b[0m\u001b[90m   missing     \u001b[0m\u001b[90m      missing   \u001b[0m\u001b[90m missing         \u001b[0m          3.7732e6           2.31212e6                1.46108e6 \u001b[90m        missing \u001b[0m          19957.0                    69134.0                           25.0                           15.32                                 9.68 \u001b[90m                    missing \u001b[0m                                4581.0             73.15   1.50922e7              42.729        19.6          2.822          1.882         1899.78             21.4                307.846                 1.82             1.6          30.7                  36.791                         1.7            61.49                    0.571 \u001b[90m          missing \u001b[0m\n",
      " 112655 │ ZWE       Africa     Zimbabwe     2021-08-23     123001.0      349.0             416.143        4293.0        44.0               26.286                 8149.99                  23.125                          27.573                   284.452                   2.915                            1.742               0.66 \u001b[90m      missing \u001b[0m\u001b[90m                  missing \u001b[0m\u001b[90m       missing \u001b[0m\u001b[90m                   missing \u001b[0m\u001b[90m               missing \u001b[0m\u001b[90m                           missing \u001b[0m\u001b[90m                missing \u001b[0m\u001b[90m                            missing \u001b[0m\u001b[90m missing   \u001b[0m\u001b[90m missing         \u001b[0m\u001b[90m              missing     \u001b[0m\u001b[90m            missing     \u001b[0m\u001b[90m          missing   \u001b[0m\u001b[90m                     missing     \u001b[0m\u001b[90m   missing     \u001b[0m\u001b[90m      missing   \u001b[0m\u001b[90m missing         \u001b[0m          3.82901e6          2.34504e6                1.48397e6 \u001b[90m        missing \u001b[0m          55812.0                    69004.0                           25.37                          15.54                                 9.83 \u001b[90m                    missing \u001b[0m                                4572.0             73.15   1.50922e7              42.729        19.6          2.822          1.882         1899.78             21.4                307.846                 1.82             1.6          30.7                  36.791                         1.7            61.49                    0.571 \u001b[90m          missing \u001b[0m\n",
      " 112656 │ ZWE       Africa     Zimbabwe     2021-08-24     123320.0      319.0             324.857        4320.0        27.0               23.429                 8171.12                  21.137                          21.525                   286.241                   1.789                            1.552               0.66 \u001b[90m      missing \u001b[0m\u001b[90m                  missing \u001b[0m\u001b[90m       missing \u001b[0m\u001b[90m                   missing \u001b[0m\u001b[90m               missing \u001b[0m\u001b[90m                           missing \u001b[0m\u001b[90m                missing \u001b[0m\u001b[90m                            missing \u001b[0m\u001b[90m missing   \u001b[0m\u001b[90m missing         \u001b[0m\u001b[90m              missing     \u001b[0m\u001b[90m            missing     \u001b[0m\u001b[90m          missing   \u001b[0m\u001b[90m                     missing     \u001b[0m\u001b[90m   missing     \u001b[0m\u001b[90m      missing   \u001b[0m\u001b[90m missing         \u001b[0m          3.88942e6          2.38206e6                1.50736e6 \u001b[90m        missing \u001b[0m          60413.0                    62638.0                           25.77                          15.78                                 9.99 \u001b[90m                    missing \u001b[0m                                4150.0 \u001b[90m       missing    \u001b[0m  1.50922e7              42.729        19.6          2.822          1.882         1899.78             21.4                307.846                 1.82             1.6          30.7                  36.791                         1.7            61.49                    0.571 \u001b[90m          missing \u001b[0m\n",
      " 112657 │ ZWE       Africa     Zimbabwe     2021-08-25     123711.0      391.0             316.143        4338.0        18.0               22.429                 8197.03                  25.907                          20.947                   287.434                   1.193                            1.486 \u001b[90m        missing    \u001b[0m\u001b[90m      missing \u001b[0m\u001b[90m                  missing \u001b[0m\u001b[90m       missing \u001b[0m\u001b[90m                   missing \u001b[0m\u001b[90m               missing \u001b[0m\u001b[90m                           missing \u001b[0m\u001b[90m                missing \u001b[0m\u001b[90m                            missing \u001b[0m\u001b[90m missing   \u001b[0m\u001b[90m missing         \u001b[0m\u001b[90m              missing     \u001b[0m\u001b[90m            missing     \u001b[0m\u001b[90m          missing   \u001b[0m\u001b[90m                     missing     \u001b[0m\u001b[90m   missing     \u001b[0m\u001b[90m      missing   \u001b[0m\u001b[90m missing         \u001b[0m          4.01552e6          2.45323e6                1.56229e6 \u001b[90m        missing \u001b[0m         126093.0                    67597.0                           26.61                          16.25                                10.35 \u001b[90m                    missing \u001b[0m                                4479.0 \u001b[90m       missing    \u001b[0m  1.50922e7              42.729        19.6          2.822          1.882         1899.78             21.4                307.846                 1.82             1.6          30.7                  36.791                         1.7            61.49                    0.571 \u001b[90m          missing \u001b[0m\n",
      " 112658 │ ZWE       Africa     Zimbabwe     2021-08-26     123986.0      275.0             297.714        4356.0        18.0               22.571                 8215.25                  18.221                          19.726                   288.626                   1.193                            1.496 \u001b[90m        missing    \u001b[0m\u001b[90m      missing \u001b[0m\u001b[90m                  missing \u001b[0m\u001b[90m       missing \u001b[0m\u001b[90m                   missing \u001b[0m\u001b[90m               missing \u001b[0m\u001b[90m                           missing \u001b[0m\u001b[90m                missing \u001b[0m\u001b[90m                            missing \u001b[0m\u001b[90m missing   \u001b[0m\u001b[90m missing         \u001b[0m\u001b[90m              missing     \u001b[0m\u001b[90m            missing     \u001b[0m\u001b[90m          missing   \u001b[0m\u001b[90m                     missing     \u001b[0m\u001b[90m   missing     \u001b[0m\u001b[90m      missing   \u001b[0m\u001b[90m missing         \u001b[0m\u001b[90m    missing         \u001b[0m\u001b[90m   missing         \u001b[0m\u001b[90m         missing         \u001b[0m\u001b[90m        missing \u001b[0m\u001b[90m        missing   \u001b[0m                   60688.0 \u001b[90m                     missing    \u001b[0m\u001b[90m                    missing    \u001b[0m\u001b[90m                          missing    \u001b[0m\u001b[90m                    missing \u001b[0m                                4021.0 \u001b[90m       missing    \u001b[0m  1.50922e7              42.729        19.6          2.822          1.882         1899.78             21.4                307.846                 1.82             1.6          30.7                  36.791                         1.7            61.49                    0.571 \u001b[90m          missing \u001b[0m\n",
      " 112659 │ ZWE       Africa     Zimbabwe     2021-08-27     124236.0      250.0             333.429        4374.0        18.0               25.143                 8231.82                  16.565                          22.093                   289.819                   1.193                            1.666 \u001b[90m        missing    \u001b[0m\u001b[90m      missing \u001b[0m\u001b[90m                  missing \u001b[0m\u001b[90m       missing \u001b[0m\u001b[90m                   missing \u001b[0m\u001b[90m               missing \u001b[0m\u001b[90m                           missing \u001b[0m\u001b[90m                missing \u001b[0m\u001b[90m                            missing \u001b[0m\u001b[90m missing   \u001b[0m\u001b[90m missing         \u001b[0m\u001b[90m              missing     \u001b[0m\u001b[90m            missing     \u001b[0m\u001b[90m          missing   \u001b[0m\u001b[90m                     missing     \u001b[0m\u001b[90m   missing     \u001b[0m\u001b[90m      missing   \u001b[0m\u001b[90m missing         \u001b[0m          4.076e6            2.49168e6                1.58432e6 \u001b[90m        missing \u001b[0m\u001b[90m        missing   \u001b[0m                   53784.0                           27.01                          16.51                                10.5  \u001b[90m                    missing \u001b[0m                                3564.0 \u001b[90m       missing    \u001b[0m  1.50922e7              42.729        19.6          2.822          1.882         1899.78             21.4                307.846                 1.82             1.6          30.7                  36.791                         1.7            61.49                    0.571 \u001b[90m          missing \u001b[0m\n",
      " 112660 │ ZWE       Africa     Zimbabwe     2021-08-28     124367.0      131.0             268.571        4390.0        16.0               22.0                   8240.5                    8.68                           17.795                   290.879                   1.06                             1.458 \u001b[90m        missing    \u001b[0m\u001b[90m      missing \u001b[0m\u001b[90m                  missing \u001b[0m\u001b[90m       missing \u001b[0m\u001b[90m                   missing \u001b[0m\u001b[90m               missing \u001b[0m\u001b[90m                           missing \u001b[0m\u001b[90m                missing \u001b[0m\u001b[90m                            missing \u001b[0m\u001b[90m missing   \u001b[0m\u001b[90m missing         \u001b[0m\u001b[90m              missing     \u001b[0m\u001b[90m            missing     \u001b[0m\u001b[90m          missing   \u001b[0m\u001b[90m                     missing     \u001b[0m\u001b[90m   missing     \u001b[0m\u001b[90m      missing   \u001b[0m\u001b[90m missing         \u001b[0m          4.11035e6          2.51305e6                1.5973e6  \u001b[90m        missing \u001b[0m          34359.0                    51016.0                           27.24                          16.65                                10.58 \u001b[90m                    missing \u001b[0m                                3380.0 \u001b[90m       missing    \u001b[0m  1.50922e7              42.729        19.6          2.822          1.882         1899.78             21.4                307.846                 1.82             1.6          30.7                  36.791                         1.7            61.49                    0.571 \u001b[90m          missing \u001b[0m\n",
      "\u001b[36m                                                                                                                                                                                                                                                                                                                                                                                                                                                                                                                                                                                                                                                                                                                                                                                                                                                                                                                                                                                                                                                                                                                                                                                                                                                                                                                                           112639 rows omitted\u001b[0m"
     ]
    }
   ],
   "source": [
    "show(data, allcols=true) "
   ]
  },
  {
   "cell_type": "code",
   "execution_count": null,
   "id": "5b1fd94f",
   "metadata": {},
   "outputs": [],
   "source": [
    "df = data[!,[:date,:location,:total_cases,:new_cases,:total_deaths,:weekly_icu_admissions,:female_smokers,:male_smokers,:icu_patients,:new_deaths,:handwashing_facilities,:median_age,:total_vaccinations,:extreme_poverty,:diabetes_prevalence,:people_fully_vaccinated,:new_vaccinations,:total_boosters]]\n",
    "last(df,10)"
   ]
  },
  {
   "cell_type": "code",
   "execution_count": null,
   "id": "1fee2c57",
   "metadata": {},
   "outputs": [],
   "source": [
    "df[!, :Smokers] = df[:, :female_smokers] + df[:, :male_smokers]"
   ]
  },
  {
   "cell_type": "code",
   "execution_count": null,
   "id": "c4141b22",
   "metadata": {},
   "outputs": [],
   "source": [
    "last(df,10)"
   ]
  },
  {
   "cell_type": "code",
   "execution_count": null,
   "id": "3c45b6a0",
   "metadata": {},
   "outputs": [],
   "source": [
    "show(df, allcols=true)"
   ]
  },
  {
   "cell_type": "code",
   "execution_count": null,
   "id": "6d4fe1b5",
   "metadata": {},
   "outputs": [],
   "source": [
    "sa_data = filter(\n",
    "x -> any(occursin.([\"South Africa\"], x.location)),\n",
    "df\n",
    ")\n",
    "last(sa_data,15)"
   ]
  },
  {
   "cell_type": "code",
   "execution_count": null,
   "id": "70b0c5ec",
   "metadata": {},
   "outputs": [],
   "source": [
    "sas = sa_data[!,[:date,:location,:Smokers,:female_smokers,:male_smokers]]\n",
    "last(sas,10)"
   ]
  },
  {
   "cell_type": "code",
   "execution_count": null,
   "id": "e6fd3a24",
   "metadata": {},
   "outputs": [],
   "source": [
    "sm = nz_data[!,[:date,:location,:Smokers,:female_smokers,:male_smokers]]\n",
    "last(sm,10)"
   ]
  },
  {
   "cell_type": "code",
   "execution_count": null,
   "id": "56ec92ab",
   "metadata": {},
   "outputs": [],
   "source": [
    "nz_data = filter(\n",
    "x -> any(occursin.([\"New Zealand\"], x.location)),\n",
    "df\n",
    ")\n",
    "last(nz_data,15)"
   ]
  },
  {
   "cell_type": "code",
   "execution_count": null,
   "id": "6c983a71",
   "metadata": {},
   "outputs": [],
   "source": [
    "data = filter(\n",
    "x -> any(occursin.([\"New Zealand\",\"South Africa\"], x.location)),\n",
    "df\n",
    ")\n",
    "last(data,15)"
   ]
  },
  {
   "cell_type": "code",
   "execution_count": null,
   "id": "d06c5806",
   "metadata": {},
   "outputs": [],
   "source": [
    "case_data = nz_data[!,[:date,:location,:total_cases,:new_cases,:total_deaths]]\n",
    "dtnz = last(case_data,15)\n",
    "last(dtnz,10)"
   ]
  },
  {
   "cell_type": "code",
   "execution_count": null,
   "id": "ab2bdcad",
   "metadata": {},
   "outputs": [],
   "source": [
    "case_data = sa_data[!,[:date,:location,:total_cases,:new_cases,:total_deaths]]\n",
    "dtsa = last(case_data,50)\n",
    "last(dtsa,10)"
   ]
  },
  {
   "cell_type": "code",
   "execution_count": null,
   "id": "35d12157",
   "metadata": {},
   "outputs": [],
   "source": [
    "using Gadfly; \n",
    "Gadfly.push_theme(:default)\n",
    "Gadfly.set_default_plot_size(28cm, 18cm)\n",
    "Gadfly.plot(nz_data, x = :date,y = :total_deaths, Geom.point, Geom.point, Guide.XLabel(\"Date\"), Guide.YLabel(\"Deaths\"),\n",
    "Guide.Title(\"NZ covid: Total Deaths\"))"
   ]
  },
  {
   "cell_type": "code",
   "execution_count": null,
   "id": "00c41d64",
   "metadata": {},
   "outputs": [],
   "source": [
    "Gadfly.push_theme(:dark)\n",
    "Gadfly.plot(sa_data, x = :date,y = :total_deaths, Geom.point, Guide.XLabel(\"Date\"), Guide.YLabel(\"Deaths\"),\n",
    "Guide.Title(\"SA covid: Total Deaths\"))"
   ]
  },
  {
   "cell_type": "code",
   "execution_count": null,
   "id": "e2bd04b6",
   "metadata": {},
   "outputs": [],
   "source": [
    "Gadfly.push_theme(:dark)\n",
    "Gadfly.plot(dtnz, x = :date , y = :total_cases,color = \"new_cases\" , Geom.point,Guide.XLabel(\"Date\"), Guide.YLabel(\"Total Cases\"),\n",
    "Guide.Title(\"NZ covid by Date and Total cases\"))"
   ]
  },
  {
   "cell_type": "code",
   "execution_count": null,
   "id": "bdfec9c4",
   "metadata": {},
   "outputs": [],
   "source": [
    "Gadfly.push_theme(:dark)\n",
    "Gadfly.plot(dtsa, x = :date , y = :total_cases ,color = \"new_cases\", Geom.point,Guide.XLabel(\"Date\"), Guide.YLabel(\"Total Cases\"),\n",
    "Guide.Title(\"SA covid by Date and Total cases\"),Scale.color_discrete_manual(\"green\",\"purple\",\"blue\"))"
   ]
  },
  {
   "cell_type": "code",
   "execution_count": null,
   "id": "6cc73706",
   "metadata": {},
   "outputs": [],
   "source": [
    "Gadfly.push_theme(:dark)\n",
    "ticks = [20,50,80,100,120]\n",
    "Gadfly.plot(dtnz, x = :date , y = :new_cases,color = \"total_deaths\" ,  Geom.bar, Guide.XLabel(\"Date\"), Guide.YLabel(\"New Cases\"),\n",
    "Guide.Title(\"NZ covid by Date and new Cases by total deaths\"),Scale.color_discrete_manual(\"orange\",\"pink\",\"blue\"), Guide.yticks(ticks=ticks))"
   ]
  },
  {
   "cell_type": "code",
   "execution_count": null,
   "id": "362c0261",
   "metadata": {},
   "outputs": [],
   "source": [
    "ticks = [0,5000,10000,15000,20000, 25000, 30000]\n",
    "Gadfly.plot(data, x = \"new_cases\",y = :date,color = \"location\",Geom.point, Guide.xticks(ticks=ticks),\n",
    "Guide.Title(\"NZ covid by Date and new cases\"),Scale.color_discrete_manual(\"green\",\"purple\",\"blue\"))"
   ]
  },
  {
   "cell_type": "code",
   "execution_count": null,
   "id": "85f3863b",
   "metadata": {},
   "outputs": [],
   "source": [
    "Gadfly.plot(dtnz, x = :date , y = :new_cases,color = \"total_deaths\" , Geom.point, Geom.line, Guide.XLabel(\"Date\"), Guide.YLabel(\"New Vaccinations\"),\n",
    "Guide.Title(\"NZ covid by Date and new cases\"),Scale.color_discrete_manual(\"green\",\"purple\",\"blue\"))"
   ]
  },
  {
   "cell_type": "code",
   "execution_count": null,
   "id": "ca3f21c0",
   "metadata": {},
   "outputs": [],
   "source": [
    "Gadfly.push_theme(:default)\n",
    "Gadfly.plot(dtsa, x = :date , y = :new_cases,color = \"total_deaths\" , Geom.point, Geom.line, Guide.XLabel(\"Date\"), Guide.YLabel(\"New Vaccinations\"),\n",
    "Guide.Title(\"SA covid by Date and new cases\"),Scale.color_discrete_manual(\"green\",\"purple\",\"blue\"))"
   ]
  },
  {
   "cell_type": "code",
   "execution_count": null,
   "id": "d51629b5",
   "metadata": {},
   "outputs": [],
   "source": [
    "Gadfly.plot(nz_data, x = :date , y = :new_vaccinations,color = \"female_smokers\" , Geom.point, Guide.XLabel(\"Date\"), Guide.YLabel(\"New Vaccinations\"),\n",
    "Guide.Title(\"NZ covid by Date and new vaccinations\"),Scale.color_discrete_manual(\"red\",\"purple\",\"blue\"))"
   ]
  },
  {
   "cell_type": "code",
   "execution_count": null,
   "id": "8bea67b8",
   "metadata": {},
   "outputs": [],
   "source": [
    "Gadfly.push_theme(:default)\n",
    "ticks = [5000,10000,15000,20000,25000,30000]\n",
    "Gadfly.plot(dtsa, x = :date , y = :new_cases,color = \"total_deaths\" ,  Geom.bar, Guide.XLabel(\"Date\"), Guide.YLabel(\"New Cases\"),\n",
    "Guide.Title(\"SA covid by Date and new Cases by total deaths\"),Scale.color_discrete_manual(\"green\",\"purple\",\"blue\"), Guide.yticks(ticks=ticks))"
   ]
  },
  {
   "cell_type": "code",
   "execution_count": null,
   "id": "2eb16693",
   "metadata": {},
   "outputs": [],
   "source": [
    "Gadfly.push_theme(:dark)\n",
    "ticks = [60000,65000,70000,75000,80000, 85000, 90000]\n",
    "Gadfly.plot(dtsa, x = :date \n",
    "    , y = :total_deaths\n",
    "    ,color = \"total_deaths\" \n",
    "    , Geom.point\n",
    "    , Geom.line\n",
    "    , Guide.yticks(ticks=ticks)\n",
    "    , Guide.XLabel(\"Date\")\n",
    "    , Guide.YLabel(\"Total Deaths\")\n",
    "    ,Guide.Title(\"SA covid by Date and Total deaths\")\n",
    "    ,Scale.color_discrete_manual(\"green\",\"purple\",\"blue\"))"
   ]
  },
  {
   "cell_type": "code",
   "execution_count": null,
   "id": "da594055",
   "metadata": {},
   "outputs": [],
   "source": []
  }
 ],
 "metadata": {
  "kernelspec": {
   "display_name": "Julia 1.6.2",
   "language": "julia",
   "name": "julia-1.6"
  },
  "language_info": {
   "file_extension": ".jl",
   "mimetype": "application/julia",
   "name": "julia",
   "version": "1.6.2"
  }
 },
 "nbformat": 4,
 "nbformat_minor": 5
}
